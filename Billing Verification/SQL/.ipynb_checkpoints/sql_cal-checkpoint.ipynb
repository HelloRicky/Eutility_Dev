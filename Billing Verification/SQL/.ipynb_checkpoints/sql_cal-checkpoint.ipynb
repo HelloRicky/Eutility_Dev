{
 "cells": [
  {
   "cell_type": "code",
   "execution_count": 10,
   "metadata": {
    "collapsed": true
   },
   "outputs": [],
   "source": [
    "# Initialisation\n",
    "\n",
    "import sqlite3\n",
    "\n",
    "#Search criteria\n",
    "NMI_CODE = '4103693793'\n",
    "DATE_WANTED = '2016-03'\n",
    "\n",
    "db_file = \"test_data.db\"\n",
    "tb_metering = 'raw_metering'\n",
    "tb_holidays = 'holidays'\n",
    "tb_nmi_info = 'nmi_info'\n",
    "tb_retailer_timeband = 'retailer_timeband'"
   ]
  },
  {
   "cell_type": "code",
   "execution_count": 3,
   "metadata": {
    "collapsed": false
   },
   "outputs": [],
   "source": [
    "\n",
    "\n",
    "\n",
    "\n",
    "#used PARAMS\n",
    "NMI_State = ''\n",
    "NMI_Tariff = ''\n",
    "NMI_Retailer = ''\n",
    "NMI_NetPro = ''\n",
    "\n",
    "conn = sqlite3.connect(db_file)\n",
    "\n",
    "c = conn.cursor()\n",
    "\n",
    "# find State for nmi\n",
    "c.execute(fetch_NMI_Info ('State', tb_nmi_info, NMI_CODE))\n",
    "NMI_State = c.fetchone()[0]\n",
    "\n",
    "# find tariff for nmi\n",
    "c.execute(fetch_NMI_Info ('Tariff', tb_nmi_info, NMI_CODE))\n",
    "NMI_Tariff = c.fetchone()[0]\n",
    "\n",
    "# find Retailer for nmi\n",
    "c.execute(fetch_NMI_Info ('Retailer', tb_nmi_info, NMI_CODE))\n",
    "NMI_Retailer = c.fetchone()[0]\n",
    "\n",
    "# find Network Provider for nmi\n",
    "c.execute(fetch_NMI_Info ('Network_Provider', tb_nmi_info, NMI_CODE))\n",
    "NMI_NetPro = c.fetchone()[0]\n",
    "\n",
    "\n",
    "t = (NMI_Retailer,NMI_State)\n",
    "\n",
    "query = \"\"\"\n",
    "SELECT *\n",
    "FROM retailer_timeband\n",
    "WHERE Retailer = ?\n",
    "AND State = ?\n",
    "\"\"\"\n",
    "c.execute(query, t)\n",
    "\n",
    "NMI_State = [x for x in c.fetchall()]\n",
    "\n",
    "# end database\n",
    "conn.close()\n"
   ]
  },
  {
   "cell_type": "code",
   "execution_count": 9,
   "metadata": {
    "collapsed": false
   },
   "outputs": [
    {
     "name": "stdout",
     "output_type": "stream",
     "text": [
      "[(22704, 2649.5039999999985)]\n",
      "Done\n"
     ]
    }
   ],
   "source": [
    "conn = sqlite3.connect(db_file)\n",
    "\n",
    "c = conn.cursor()\n",
    "\n",
    "# find tariff for nmi\n",
    "holiday_query = \"AND date(Reading_Date) != '2016-04-25'\"\n",
    "\n",
    "table = 'raw_metering'\n",
    "query = '''\n",
    "SELECT rowid, sum(Value)\n",
    "FROM raw_metering\n",
    "WHERE NMI_Suffix = 'E1'\n",
    "AND strftime('%w', Reading_Date) BETWEEN '1' AND '5'\n",
    "AND ((Time(Reading_Date) >= time('07:00') AND Time(Reading_Date) <time('09:00'))\n",
    "OR (Time(Reading_Date) >= time('17:00')\n",
    "AND Time(Reading_Date) <time('20:00')))\n",
    "AND strftime('%m', Reading_Date) = '04'\n",
    "\n",
    "''' + holiday_query\n",
    "\n",
    "c.execute(query)\n",
    "print c.fetchall()\n",
    "print 'Done'\n",
    "\n",
    "\n",
    "\n",
    "\n",
    "\n",
    "conn.close()\n"
   ]
  },
  {
   "cell_type": "code",
   "execution_count": null,
   "metadata": {
    "collapsed": true
   },
   "outputs": [],
   "source": [
    "conn = sqlite3.connect(db_file)\n",
    "\n",
    "c = conn.cursor()\n",
    "\n",
    "# find tariff for nmi\n",
    "table = 'raw_metering'\n",
    "\n",
    "\n",
    "query = \"\"\"\n",
    "UPDATE \n",
    "raw_metering\n",
    "SET Reading_Date = CASE\n",
    "WHEN substr(Reading_Date, 13,1) = ':'\n",
    "THEN substr(Reading_Date, 1, 11) || '0' || substr(Reading_Date, 12, 4)\n",
    "ELSE Reading_Date\n",
    "END\n",
    "\"\"\"\n",
    "\n",
    "\n",
    "c.execute(query)\n",
    "print 'Done'\n",
    "\n",
    "\n",
    "conn.close()"
   ]
  },
  {
   "cell_type": "markdown",
   "metadata": {},
   "source": [
    "# Functions"
   ]
  },
  {
   "cell_type": "code",
   "execution_count": 43,
   "metadata": {
    "collapsed": false
   },
   "outputs": [],
   "source": [
    "# create new table\n",
    "def create_table():\n",
    "    pass\n",
    "\n",
    "# check for all tables in db\n",
    "def find_all_tables():\n",
    "    pass\n",
    "\n",
    "# update table\n",
    "def update_table():\n",
    "    pass\n",
    "\n",
    "# import csv file\n",
    "def import_csv():\n",
    "    pass\n",
    "\n",
    "# export csv file\n",
    "def export_csv():\n",
    "    pass\n",
    "\n",
    "def correct_time_stype(time_string):\n",
    "    key = \":\"\n",
    "    if time_string.find(key) == 1:\n",
    "        return '0' + time_string\n",
    "    else:\n",
    "        return time_string\n",
    "def fetch_NMI_Info(field1, table1, NMI1):\n",
    "    query = '''\n",
    "        SELECT %s\n",
    "        FROM %s\n",
    "        WHERE NMI = %s\n",
    "        '''\n",
    "    return query % (field1, table1, NMI1)\n",
    "\n",
    "def general_query(q_info):\n",
    "    conn = sqlite3.connect(db_file)\n",
    "    c = conn.cursor()\n",
    "    c.execute(q_info)\n",
    "    data = c.fetchall()\n",
    "    c.close\n",
    "    return data\n",
    "\n",
    "# return holiday list\n",
    "def holiday_query(q_state, q_target, q_mth, q_yr):\n",
    "    \"\"\"\n",
    "    this will return a list of holidays of the given state, network/retailer, months\n",
    "    \"\"\"\n",
    "    query = \"\"\"\n",
    "        SELECT Date\n",
    "        FROM holidays\n",
    "        WHERE State = '%s' \n",
    "        AND Target = '%s'\n",
    "\n",
    "    \"\"\"\n",
    "    #AND strftime('%m', Date) = %s \n",
    "    #AND strftime('%Y', Date) = %s\n",
    "    sub_query = query % (q_state, q_target)\n",
    "    #print sub_query\n",
    "    return general_query(sub_query)"
   ]
  },
  {
   "cell_type": "code",
   "execution_count": 46,
   "metadata": {
    "collapsed": false
   },
   "outputs": [
    {
     "name": "stdout",
     "output_type": "stream",
     "text": [
      "hello (u'2016-01-01',)\n"
     ]
    }
   ],
   "source": [
    "print 'hello',holiday_query ('NSW', 'Network', '03', '2016')[0]"
   ]
  },
  {
   "cell_type": "code",
   "execution_count": 11,
   "metadata": {
    "collapsed": false
   },
   "outputs": [
    {
     "name": "stdout",
     "output_type": "stream",
     "text": [
      "00:12\n"
     ]
    }
   ],
   "source": [
    "test_val = \"0:12\"\n",
    "print correct_time_stype(test_val)\n"
   ]
  },
  {
   "cell_type": "code",
   "execution_count": null,
   "metadata": {
    "collapsed": true
   },
   "outputs": [],
   "source": [
    "# update datetime column\n",
    "UPDATE raw_metering SET Reading_Date = replace(Reading_Date, '/', '-')\n",
    "\n",
    "SELECT (substr(Reading_Date, 7, 4) || '-' || substr(Reading_Date, 4, 2) || '-' || substr(Reading_Date, 1, 2) as dd)\n",
    "FROM raw_metering \n",
    "\n",
    "# update date formate\n",
    "UPDATE \n",
    "raw_metering\n",
    "SET Reading_Date = CASE\n",
    "WHEN Instr(Reading_Date,'/') =2\n",
    "THEN substr(Reading_Date, 6, 4) || '-' || substr(Reading_Date, 3, 2) || '-0' || substr(Reading_Date, 1, 1) || substr(Reading_Date, Instr(Reading_Date,' '), 6)\n",
    "WHEN Instr(Reading_Date,'/') =3 \n",
    "THEN (substr(Reading_Date, 7, 4) || '-' || substr(Reading_Date, 4, 2) || '-' || substr(Reading_Date, 1, 2)) || substr(Reading_Date, Instr(Reading_Date,' '), 6)\n",
    "ELSE Reading_Date\n",
    "END\n",
    "\n",
    "# update time formate\n",
    "UPDATE \n",
    "raw_metering\n",
    "SET Reading_Date = CASE\n",
    "WHEN Instr(Reading_Date, ':') = 13  \n",
    "THEN substr(Reading_Date, 1, 11) || '0' || substr(Reading_Date, 12, 4)\n",
    "ELSE Reading_Date\n",
    "END\n",
    "\n",
    "#\n",
    "SELECT SUM(Value)\n",
    "FROM raw_metering\n",
    "WHERE NMI_Suffix = 'E1' and Quality_Method = 'A' and strftime('%w', Reading_Date) between '0' and '6'\n",
    "\n",
    "#peak1_start\n",
    "SELECT Peak1_Start FROM\n",
    "retailer_timeband,\n",
    "(SELECT (nmi_info.State) as state1 FROM nmi_info WHERE NMI = '4103693793') as sub_state,\n",
    "(SELECT (nmi_info.Retailer) as retail FROM nmi_info WHERE NMI = '4103693793') as sub_retail\n",
    "WHERE retailer_timeband.Retailer = retail AND retailer_timeband.State = state1"
   ]
  },
  {
   "cell_type": "code",
   "execution_count": null,
   "metadata": {
    "collapsed": true
   },
   "outputs": [],
   "source": []
  }
 ],
 "metadata": {
  "kernelspec": {
   "display_name": "Python 2",
   "language": "python",
   "name": "python2"
  },
  "language_info": {
   "codemirror_mode": {
    "name": "ipython",
    "version": 2
   },
   "file_extension": ".py",
   "mimetype": "text/x-python",
   "name": "python",
   "nbconvert_exporter": "python",
   "pygments_lexer": "ipython2",
   "version": "2.7.11"
  }
 },
 "nbformat": 4,
 "nbformat_minor": 0
}

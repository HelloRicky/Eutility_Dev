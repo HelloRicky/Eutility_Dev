{
 "cells": [
  {
   "cell_type": "code",
   "execution_count": 28,
   "metadata": {
    "collapsed": false
   },
   "outputs": [
    {
     "ename": "OperationalError",
     "evalue": "near \".\": syntax error",
     "output_type": "error",
     "traceback": [
      "\u001b[1;31m---------------------------------------------------------------------------\u001b[0m",
      "\u001b[1;31mOperationalError\u001b[0m                          Traceback (most recent call last)",
      "\u001b[1;32m<ipython-input-28-bb0ca75069c6>\u001b[0m in \u001b[0;36m<module>\u001b[1;34m()\u001b[0m\n\u001b[0;32m     22\u001b[0m '''\n\u001b[0;32m     23\u001b[0m \u001b[1;33m\u001b[0m\u001b[0m\n\u001b[1;32m---> 24\u001b[1;33m \u001b[0mc\u001b[0m\u001b[1;33m.\u001b[0m\u001b[0mexecute\u001b[0m\u001b[1;33m(\u001b[0m\u001b[0mquery\u001b[0m\u001b[1;33m)\u001b[0m\u001b[1;33m\u001b[0m\u001b[0m\n\u001b[0m\u001b[0;32m     25\u001b[0m \u001b[1;32mprint\u001b[0m \u001b[0mc\u001b[0m\u001b[1;33m.\u001b[0m\u001b[0mfetchall\u001b[0m\u001b[1;33m(\u001b[0m\u001b[1;33m)\u001b[0m\u001b[1;33m\u001b[0m\u001b[0m\n\u001b[0;32m     26\u001b[0m \u001b[1;33m\u001b[0m\u001b[0m\n",
      "\u001b[1;31mOperationalError\u001b[0m: near \".\": syntax error"
     ]
    }
   ],
   "source": [
    "import sqlite3\n",
    "\n",
    "db_file = \"test_data.db\"\n",
    "conn = sqlite3.connect(db_file)\n",
    "\n",
    "c = conn.cursor()\n",
    "\n",
    "\"\"\"\n",
    "c.execute('''CREATE TABLE stocks\n",
    "             (date text, trans text, symbol text, qty real, price real)''')\n",
    "\n",
    "# Insert a row of data\n",
    "c.execute(\"INSERT INTO stocks VALUES ('2006-01-05','BUY','RHAT',100,35.14)\")\n",
    "\n",
    "# Save (commit) the changes\n",
    "conn.commit()\n",
    "\n",
    "\"\"\"\n",
    "query = ''' \n",
    "SELECT * FROM test_data.db.sqlite_master WHERE type = 'table'\n",
    "\n",
    "'''\n",
    "\n",
    "c.execute(query)\n",
    "print c.fetchall()\n",
    "\n",
    "\n",
    "\n",
    "\n",
    "\n",
    "conn.close()\n"
   ]
  },
  {
   "cell_type": "markdown",
   "metadata": {},
   "source": [
    "# Functions"
   ]
  },
  {
   "cell_type": "code",
   "execution_count": 10,
   "metadata": {
    "collapsed": false
   },
   "outputs": [],
   "source": [
    "# create new table\n",
    "def create_table():\n",
    "    pass\n",
    "\n",
    "# check for all tables in db\n",
    "def find_all_tables():\n",
    "    pass\n",
    "\n",
    "# update table\n",
    "def update_table():\n",
    "    pass\n",
    "\n",
    "# import csv file\n",
    "def import_csv():\n",
    "    pass\n",
    "\n",
    "# export csv file\n",
    "def export_csv():\n",
    "    pass\n",
    "\n",
    "def correct_time_stype(time_string):\n",
    "    key = \":\"\n",
    "    if time_string.find(key) == 1:\n",
    "        return '0' + time_string\n",
    "    else:\n",
    "        return time_string\n"
   ]
  },
  {
   "cell_type": "code",
   "execution_count": 11,
   "metadata": {
    "collapsed": false
   },
   "outputs": [
    {
     "name": "stdout",
     "output_type": "stream",
     "text": [
      "00:12\n"
     ]
    }
   ],
   "source": [
    "test_val = \"0:12\"\n",
    "print correct_time_stype(test_val)\n"
   ]
  },
  {
   "cell_type": "code",
   "execution_count": null,
   "metadata": {
    "collapsed": true
   },
   "outputs": [],
   "source": [
    "# update datetime column\n",
    "UPDATE raw_metering SET Reading_Date = replace(Reading_Date, '/', '-')\n",
    "\n",
    "SELECT (substr(Reading_Date, 7, 4) || '-' || substr(Reading_Date, 4, 2) || '-' || substr(Reading_Date, 1, 2) as dd)\n",
    "FROM raw_metering \n",
    "\n",
    "# update date formate\n",
    "UPDATE \n",
    "raw_metering\n",
    "SET Reading_Date = CASE\n",
    "WHEN Instr(Reading_Date,'/') =2\n",
    "THEN substr(Reading_Date, 6, 4) || '-' || substr(Reading_Date, 3, 2) || '-0' || substr(Reading_Date, 1, 1) || substr(Reading_Date, Instr(Reading_Date,' '), 6)\n",
    "WHEN Instr(Reading_Date,'/') =3 \n",
    "THEN (substr(Reading_Date, 7, 4) || '-' || substr(Reading_Date, 4, 2) || '-' || substr(Reading_Date, 1, 2)) || substr(Reading_Date, Instr(Reading_Date,' '), 6)\n",
    "ELSE Reading_Date\n",
    "END\n",
    "\n",
    "# update time formate\n",
    "UPDATE \n",
    "raw_metering\n",
    "SET Reading_Date = CASE\n",
    "WHEN Instr(Reading_Date, ':') = 13  \n",
    "THEN substr(Reading_Date, 1, 11) || '0' || substr(Reading_Date, 12, 4)\n",
    "ELSE Reading_Date\n",
    "END\n",
    "\n",
    "#\n",
    "SELECT SUM(Value)\n",
    "FROM raw_metering\n",
    "WHERE NMI_Suffix = 'E1' and Quality_Method = 'A' and strftime('%w', Reading_Date) between '0' and '6'\n",
    "\n",
    "#peak1_start\n",
    "SELECT Peak1_Start FROM\n",
    "retailer_timeband,\n",
    "(SELECT (nmi_info.State) as state1 FROM nmi_info WHERE NMI = '4103693793') as sub_state,\n",
    "(SELECT (nmi_info.Retailer) as retail FROM nmi_info WHERE NMI = '4103693793') as sub_retail\n",
    "WHERE retailer_timeband.Retailer = retail AND retailer_timeband.State = state1"
   ]
  },
  {
   "cell_type": "code",
   "execution_count": null,
   "metadata": {
    "collapsed": true
   },
   "outputs": [],
   "source": []
  }
 ],
 "metadata": {
  "kernelspec": {
   "display_name": "Python 2",
   "language": "python",
   "name": "python2"
  },
  "language_info": {
   "codemirror_mode": {
    "name": "ipython",
    "version": 2
   },
   "file_extension": ".py",
   "mimetype": "text/x-python",
   "name": "python",
   "nbconvert_exporter": "python",
   "pygments_lexer": "ipython2",
   "version": "2.7.11"
  }
 },
 "nbformat": 4,
 "nbformat_minor": 0
}

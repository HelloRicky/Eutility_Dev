{
 "cells": [
  {
   "cell_type": "code",
   "execution_count": 3,
   "metadata": {
    "collapsed": false
   },
   "outputs": [],
   "source": [
    "\"\"\"\n",
    "Initialisation\n",
    "\"\"\"\n",
    "\n",
    "import sqlite3\n",
    "\n",
    "#Search criteria\n",
    "NMI_CODE = '4103693793'\n",
    "DATE_WANTED = '2016-04' #yyyy-mm\n",
    "\n",
    "db_file = \"test_data.db\"\n",
    "tb_metering = 'raw_metering'\n",
    "tb_holidays = 'holidays'\n",
    "tb_nmi_info = 'nmi_info'\n",
    "tb_retailer_timeband = 'retailer_timeband'\n",
    "target_type = ['Retailer', 'Network'] #holiday types\n",
    "timeband_type = ['PEAK', 'SHOULDER', 'OFFPEAK']\n",
    "YR = DATE_WANTED.split('-')[0]\n",
    "MT = DATE_WANTED.split('-')[1]\n",
    "\n",
    "#used PARAMS\n",
    "NMI_State = ''\n",
    "NMI_Tariff = ''\n",
    "NMI_Retailer = ''\n",
    "NMI_NetPro = ''\n",
    "Re_T_band = []\n",
    "\n",
    "#time band\n",
    "timeList = ['Peak1_a', 'Peak1_b', 'Peak2_a', 'Peak2_b', \\\n",
    "               'Shoulder1_a', 'Shoulder1_b', 'Shoulder2_a', 'Shoulder2_b', \\\n",
    "              'Off-Peak1_a', 'Off-Peak1_b', 'Off-Peak2_a', 'Off-Peak2_b', \\\n",
    "              'week_a', 'week_b']\n",
    "\n",
    "re_timeDict = {} # dictionary for retailer timeband\n",
    "net_timeDict = {} # dictionary for network timeband\n",
    "\n",
    "timeDictList = [re_timeDict, net_timeDict] # combine as list"
   ]
  },
  {
   "cell_type": "code",
   "execution_count": 27,
   "metadata": {
    "collapsed": false
   },
   "outputs": [],
   "source": [
    "\"\"\"\n",
    "Fetch NMI info\n",
    "\"\"\"\n",
    "\n",
    "\n",
    "# find State for nmi\n",
    "NMI_State = fetch_NMI_Info('State', tb_nmi_info, NMI_CODE)[0]\n",
    "\n",
    "# find tariff for nmi\n",
    "NMI_Tariff = fetch_NMI_Info('Tariff', tb_nmi_info, NMI_CODE)[0]\n",
    "\n",
    "# find Retailer for nmi\n",
    "NMI_Retailer = fetch_NMI_Info('Retailer', tb_nmi_info, NMI_CODE)[0]\n",
    "\n",
    "# find Network Provider for nmi\n",
    "NMI_NetPro = fetch_NMI_Info('Network_Provider', tb_nmi_info, NMI_CODE)[0]\n",
    "\n",
    "# find all the time band for a retailer\n",
    "query = \"\"\"\n",
    "SELECT *\n",
    "FROM retailer_timeband\n",
    "WHERE Retailer = ?\n",
    "AND State = ?\n",
    "\"\"\"\n",
    "t = (NMI_Retailer,NMI_State)\n",
    "Re_T_band = [correct_time_stype(x) for x in general_query(query, t, True)[0]]\n",
    "\n",
    "for i, v in enumerate(timeList):\n",
    "    re_timeDict[v] = Re_T_band[i+2] # add 2 to shift away Retailer and State Columns\n",
    "\n",
    "#debug\n",
    "if False:\n",
    "    # print all items below\n",
    "    print NMI_Tariff\n",
    "    print NMI_Retailer\n",
    "    print NMI_NetPro\n",
    "    print NMI_State\n",
    "\n",
    "if False:\n",
    "    # print all items for the retailer time band\n",
    "    for i in Re_T_band:\n",
    "        print i\n"
   ]
  },
  {
   "cell_type": "code",
   "execution_count": 22,
   "metadata": {
    "collapsed": false
   },
   "outputs": [
    {
     "name": "stdout",
     "output_type": "stream",
     "text": [
      "2649.504\n",
      "5893.788\n",
      "10048.758\n"
     ]
    }
   ],
   "source": [
    "\"\"\"Retailer Section\"\"\"\n",
    "\n",
    "#Peak Usage\n",
    "re_peak_usage = Usage_Cal(target_type[0],timeband_type[0])[0]\n",
    "#Shoulder Usage\n",
    "re_shoulder_usage = Usage_Cal(target_type[0],timeband_type[1])[0]\n",
    "#Off peak Usage\n",
    "re_offPeak_usage = Usage_Tot()[0] - re_peak_usage - re_shoulder_usage\n",
    "\n",
    "\n",
    "\n",
    "\"\"\"Network Section\"\"\"\n",
    "\"\"\"\n",
    "#Peak Usage\n",
    "re_peak_usage = Usage_Cal(target_type[1],timeband_type[0])[0]\n",
    "#Shoulder Usage\n",
    "re_shoulder_usage = Usage_Cal(target_type[1],timeband_type[1])[0]\n",
    "#Off peak Usage\n",
    "re_offPeak_usage = Usage_Tot()[0] - re_peak_usage - re_shoulder_usage\n",
    "\"\"\"\n",
    "\n",
    "\n",
    "print re_peak_usage\n",
    "print re_shoulder_usage\n",
    "print re_offPeak_usage"
   ]
  },
  {
   "cell_type": "markdown",
   "metadata": {},
   "source": [
    "# Functions"
   ]
  },
  {
   "cell_type": "code",
   "execution_count": 9,
   "metadata": {
    "collapsed": false
   },
   "outputs": [],
   "source": [
    "# create new table\n",
    "def create_table():\n",
    "    pass\n",
    "\n",
    "# check for all tables in db\n",
    "def find_all_tables():\n",
    "    pass\n",
    "\n",
    "# update table\n",
    "def update_table():\n",
    "    pass\n",
    "\n",
    "# import csv file\n",
    "def import_csv():\n",
    "    pass\n",
    "\n",
    "# export csv file\n",
    "def export_csv():\n",
    "    pass\n",
    "\n",
    "def correct_time_stype(time_string):\n",
    "    key = \":\"\n",
    "    if time_string == None:\n",
    "        return None\n",
    "    else:\n",
    "        if time_string.find(key) == 1:\n",
    "            return '0' + time_string\n",
    "        else:\n",
    "            return time_string\n",
    "    \n",
    "\n",
    "# execute a query and return result in list\n",
    "def general_query(q_info, t, fetch_all = False):\n",
    "    conn = sqlite3.connect(db_file)\n",
    "    c = conn.cursor()\n",
    "    c.execute(q_info,t)\n",
    "    if fetch_all:\n",
    "        data = [x for x in c.fetchall()]\n",
    "    else:\n",
    "        data = [x[0] for x in c.fetchall()]\n",
    "    c.close\n",
    "    return data\n",
    "\n",
    "def fetch_NMI_Info(field1, table1, NMI1):\n",
    "    query = \"\"\"\n",
    "        SELECT %s\n",
    "        FROM %s\n",
    "        WHERE NMI = ?\n",
    "        \"\"\" % (field1, table1)\n",
    "    \n",
    "    t = (NMI1,)\n",
    "    return general_query(query,t)\n",
    "\n",
    "\n",
    "# return holiday query\n",
    "def holiday_query(q_state, q_target, q_mth, q_yr):\n",
    "    \"\"\"\n",
    "    this will return a list of holidays of the given state, network/retailer, months\n",
    "    \"\"\"\n",
    "    query = \"\"\"\n",
    "        SELECT Date\n",
    "        FROM holidays\n",
    "        WHERE State = ? \n",
    "        AND Target = ?\n",
    "        AND strftime('%m', Date) = ?\n",
    "        AND strftime('%Y', Date) = ?\n",
    "        \n",
    "    \"\"\"\n",
    "    t = (q_state, q_target, q_mth, q_yr)\n",
    "\n",
    "    lst = general_query(query,t)\n",
    "    return holiday_query_edit(lst) \n",
    "\n",
    "def holiday_query_edit(lst):\n",
    "    result = \"\"\n",
    "    prefix = \"AND date(Reading_Date) !='\"\n",
    "    potfix = \"\\'\\n\"\n",
    "    for i in lst:\n",
    "        result += (prefix + i + potfix)\n",
    "    return result\n",
    "\n",
    "# return time query\n",
    "def time_query(q_target, time_type):\n",
    "    if q_target == target_type[0]:\n",
    "        #Retailer\n",
    "        d = timeDictList[0]\n",
    "    elif q_target == target_type[1]:\n",
    "        #Network\n",
    "        d = timeDictList[1]\n",
    "        \n",
    "    # PEAK\n",
    "    if time_type == timeband_type[0]:\n",
    "        return time_query_edit(d['Peak1_a'], d['Peak1_b'], d['Peak2_a'], d['Peak2_b'])\n",
    "    #SHOULDER\n",
    "    elif time_type ==timeband_type[1]:\n",
    "        return time_query_edit(d['Shoulder1_a'], d['Shoulder1_b'],d['Shoulder2_a'], d['Shoulder2_b'])\n",
    "    #OFFPEAK\n",
    "    elif time_type ==timeband_type[2]:\n",
    "        return time_query_edit(d['Off-Peak1_a'], d['Off-Peak1_b'], d['Off-Peak2_a'], d['Off-Peak2_b'])      \n",
    "    else:\n",
    "        return ''\n",
    "\n",
    "def time_query_edit(i1, i2, i3, i4):\n",
    "    \n",
    "    result = \"\"\n",
    "    stat_1 = \"\"\n",
    "    stat_2 = \"\"\n",
    "    if i1 != None and i2 !=None:\n",
    "        stat_1 = \"(Time(Reading_Date) >= time('%s') AND Time(Reading_Date) <time('%s'))\" % (i1, i2)\n",
    "    if i3 != None and i4 !=None:\n",
    "        stat_2 = \"(Time(Reading_Date) >= time('%s') AND Time(Reading_Date) <time('%s'))\" % (i3, i4)\n",
    "    if len(stat_1) and len(stat_2):\n",
    "        result = \"AND(\" + stat_1 + \"OR\" + stat_2 + \")\"\n",
    "    elif len(stat_1):\n",
    "        result = \"AND(\" + stat_1 + \")\"\n",
    "    elif len(stat_2):\n",
    "        result = \"AND(\" + stat_2 + \")\"\n",
    "    return result"
   ]
  },
  {
   "cell_type": "code",
   "execution_count": 21,
   "metadata": {
    "collapsed": true
   },
   "outputs": [],
   "source": [
    "# Usage function\n",
    "def Usage_Cal(target, timeband):\n",
    "    q_usage = 'E1'\n",
    "    # find the condition for holiday and timeband for retailer\n",
    "    q_holiday = holiday_query(NMI_State, target, MT, YR)\n",
    "    q_time = time_query(target, timeband)\n",
    "\n",
    "    query = \"\"\"\n",
    "    SELECT sum(Value)\n",
    "    FROM raw_metering\n",
    "    WHERE NMI_Suffix = ?\n",
    "    AND strftime('%Y', Reading_Date) = ?\n",
    "    AND strftime('%m', Reading_Date) = ?\n",
    "    AND strftime('%w', Reading_Date) BETWEEN ? AND ?\n",
    "    \"\"\" \\\n",
    "    + q_holiday + q_time\n",
    "\n",
    "    t=(q_usage, YR, MT, re_timeDict['week_a'],re_timeDict['week_b'])\n",
    "    return general_query(query, t)\n",
    "\n",
    "def Usage_Tot():\n",
    "    #find the total usage\n",
    "    query = \"\"\"\n",
    "    SELECT SUM(Value)\n",
    "    FROM raw_metering\n",
    "    WHERE NMI_Suffix = 'E1'\n",
    "    AND strftime('%Y', Reading_Date) = ?\n",
    "    AND strftime('%m', Reading_Date) = ?\n",
    "    \"\"\"\n",
    "    t = (YR, MT)\n",
    "    return general_query(query, t)\n",
    "\n",
    "\n",
    "    "
   ]
  },
  {
   "cell_type": "code",
   "execution_count": 29,
   "metadata": {
    "collapsed": false
   },
   "outputs": [
    {
     "name": "stdout",
     "output_type": "stream",
     "text": [
      "Done\n"
     ]
    }
   ],
   "source": [
    "# update table\n",
    "conn = sqlite3.connect(db_file)\n",
    "\n",
    "c = conn.cursor()\n",
    "\n",
    "# find tariff for nmi\n",
    "table = 'raw_metering'\n",
    "\n",
    "\n",
    "query = \"\"\"\n",
    "UPDATE \n",
    "raw_metering\n",
    "SET Reading_Date = CASE\n",
    "WHEN substr(Reading_Date, 13,1) = ':'\n",
    "THEN substr(Reading_Date, 1, 11) || '0' || substr(Reading_Date, 12, 4)\n",
    "ELSE Reading_Date\n",
    "END\n",
    "\"\"\"\n",
    "\n",
    "\n",
    "#c.execute(query)\n",
    "print 'Done'\n",
    "\n",
    "\n",
    "conn.close()"
   ]
  },
  {
   "cell_type": "markdown",
   "metadata": {},
   "source": [
    "# DEBUG SECTION"
   ]
  },
  {
   "cell_type": "code",
   "execution_count": 24,
   "metadata": {
    "collapsed": false
   },
   "outputs": [],
   "source": [
    "# debug 1\n",
    "if False:\n",
    "    print time_query(target_type[0], 'PEAK')"
   ]
  },
  {
   "cell_type": "code",
   "execution_count": 25,
   "metadata": {
    "collapsed": false
   },
   "outputs": [],
   "source": [
    "# debug 2\n",
    "if False:\n",
    "    print holiday_query ('NSW', 'Network', '03', '2016')"
   ]
  },
  {
   "cell_type": "code",
   "execution_count": 26,
   "metadata": {
    "collapsed": false
   },
   "outputs": [],
   "source": [
    "# debug 3\n",
    "if False:\n",
    "    test_val = \"0:12\"\n",
    "    print correct_time_stype(test_val)\n"
   ]
  },
  {
   "cell_type": "markdown",
   "metadata": {},
   "source": [
    "# Code for SQL"
   ]
  },
  {
   "cell_type": "code",
   "execution_count": null,
   "metadata": {
    "collapsed": true
   },
   "outputs": [],
   "source": [
    "# update datetime column\n",
    "UPDATE raw_metering SET Reading_Date = replace(Reading_Date, '/', '-')\n",
    "\n",
    "SELECT (substr(Reading_Date, 7, 4) || '-' || substr(Reading_Date, 4, 2) || '-' || substr(Reading_Date, 1, 2) as dd)\n",
    "FROM raw_metering \n",
    "\n",
    "# update date formate\n",
    "UPDATE \n",
    "raw_metering\n",
    "SET Reading_Date = CASE\n",
    "WHEN Instr(Reading_Date,'/') =2\n",
    "THEN substr(Reading_Date, 6, 4) || '-' || substr(Reading_Date, 3, 2) || '-0' || substr(Reading_Date, 1, 1) || substr(Reading_Date, Instr(Reading_Date,' '), 6)\n",
    "WHEN Instr(Reading_Date,'/') =3 \n",
    "THEN (substr(Reading_Date, 7, 4) || '-' || substr(Reading_Date, 4, 2) || '-' || substr(Reading_Date, 1, 2)) || substr(Reading_Date, Instr(Reading_Date,' '), 6)\n",
    "ELSE Reading_Date\n",
    "END\n",
    "\n",
    "# update time formate\n",
    "UPDATE \n",
    "raw_metering\n",
    "SET Reading_Date = CASE\n",
    "WHEN Instr(Reading_Date, ':') = 13  \n",
    "THEN substr(Reading_Date, 1, 11) || '0' || substr(Reading_Date, 12, 4)\n",
    "ELSE Reading_Date\n",
    "END\n",
    "\n",
    "#\n",
    "SELECT SUM(Value)\n",
    "FROM raw_metering\n",
    "WHERE NMI_Suffix = 'E1' and Quality_Method = 'A' and strftime('%w', Reading_Date) between '0' and '6'\n",
    "\n",
    "#peak1_start\n",
    "SELECT Peak1_Start FROM\n",
    "retailer_timeband,\n",
    "(SELECT (nmi_info.State) as state1 FROM nmi_info WHERE NMI = '4103693793') as sub_state,\n",
    "(SELECT (nmi_info.Retailer) as retail FROM nmi_info WHERE NMI = '4103693793') as sub_retail\n",
    "WHERE retailer_timeband.Retailer = retail AND retailer_timeband.State = state1"
   ]
  },
  {
   "cell_type": "code",
   "execution_count": null,
   "metadata": {
    "collapsed": true
   },
   "outputs": [],
   "source": []
  }
 ],
 "metadata": {
  "kernelspec": {
   "display_name": "Python 2",
   "language": "python",
   "name": "python2"
  },
  "language_info": {
   "codemirror_mode": {
    "name": "ipython",
    "version": 2
   },
   "file_extension": ".py",
   "mimetype": "text/x-python",
   "name": "python",
   "nbconvert_exporter": "python",
   "pygments_lexer": "ipython2",
   "version": "2.7.11"
  }
 },
 "nbformat": 4,
 "nbformat_minor": 0
}

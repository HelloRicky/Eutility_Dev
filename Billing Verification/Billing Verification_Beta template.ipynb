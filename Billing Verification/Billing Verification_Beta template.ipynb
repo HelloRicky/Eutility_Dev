{
 "cells": [
  {
   "cell_type": "code",
   "execution_count": 1,
   "metadata": {
    "collapsed": false
   },
   "outputs": [
    {
     "name": "stdout",
     "output_type": "stream",
     "text": [
      "Populating the interactive namespace from numpy and matplotlib\n"
     ]
    }
   ],
   "source": [
    "import numpy as np\n",
    "import pandas as pd\n",
    "import matplotlib.pyplot as plt\n",
    "import seaborn as sns\n",
    "%pylab inline"
   ]
  },
  {
   "cell_type": "code",
   "execution_count": 3,
   "metadata": {
    "collapsed": false
   },
   "outputs": [],
   "source": [
    "metering_data = pd.read_csv('meter_readings.csv')"
   ]
  },
  {
   "cell_type": "code",
   "execution_count": 8,
   "metadata": {
    "collapsed": false
   },
   "outputs": [
    {
     "data": {
      "text/html": [
       "<div>\n",
       "<table border=\"1\" class=\"dataframe\">\n",
       "  <thead>\n",
       "    <tr style=\"text-align: right;\">\n",
       "      <th></th>\n",
       "      <th>NMI</th>\n",
       "      <th>Period</th>\n",
       "      <th>kWh Value</th>\n",
       "      <th>kVARh Value</th>\n",
       "      <th>kW</th>\n",
       "      <th>kVAR</th>\n",
       "      <th>Max kW</th>\n",
       "      <th>Demand kVA</th>\n",
       "      <th>PF</th>\n",
       "      <th>CO2</th>\n",
       "      <th>No Of Meters</th>\n",
       "      <th>Start Time</th>\n",
       "      <th>End Time</th>\n",
       "      <th>kWh Actual</th>\n",
       "      <th>kWh Estimate</th>\n",
       "      <th>Minimum Temperature</th>\n",
       "      <th>Maximum Temperature</th>\n",
       "      <th>Site ID</th>\n",
       "      <th>TOU Demand kW</th>\n",
       "      <th>TOU Demand kVA</th>\n",
       "    </tr>\n",
       "  </thead>\n",
       "  <tbody>\n",
       "    <tr>\n",
       "      <th>0</th>\n",
       "      <td>2002107042</td>\n",
       "      <td>2016-03-01 00:00:00</td>\n",
       "      <td>20.32</td>\n",
       "      <td>0.48</td>\n",
       "      <td>40.64</td>\n",
       "      <td>0.96</td>\n",
       "      <td>40.64</td>\n",
       "      <td>40.651</td>\n",
       "      <td>0.9997</td>\n",
       "      <td>12.3952</td>\n",
       "      <td>1</td>\n",
       "      <td>2016-03-01 00:00:00</td>\n",
       "      <td>2016-03-01 00:15:00</td>\n",
       "      <td>20.32</td>\n",
       "      <td>0.0</td>\n",
       "      <td>NaN</td>\n",
       "      <td>NaN</td>\n",
       "      <td>NaN</td>\n",
       "      <td>0.0</td>\n",
       "      <td>0.0</td>\n",
       "    </tr>\n",
       "    <tr>\n",
       "      <th>1</th>\n",
       "      <td>2002107042</td>\n",
       "      <td>2016-03-01 00:30:00</td>\n",
       "      <td>18.08</td>\n",
       "      <td>0.32</td>\n",
       "      <td>36.16</td>\n",
       "      <td>0.64</td>\n",
       "      <td>36.16</td>\n",
       "      <td>36.166</td>\n",
       "      <td>0.9998</td>\n",
       "      <td>11.0288</td>\n",
       "      <td>1</td>\n",
       "      <td>2016-03-01 00:30:00</td>\n",
       "      <td>2016-03-01 00:45:00</td>\n",
       "      <td>18.08</td>\n",
       "      <td>0.0</td>\n",
       "      <td>NaN</td>\n",
       "      <td>NaN</td>\n",
       "      <td>NaN</td>\n",
       "      <td>0.0</td>\n",
       "      <td>0.0</td>\n",
       "    </tr>\n",
       "    <tr>\n",
       "      <th>2</th>\n",
       "      <td>2002107042</td>\n",
       "      <td>2016-03-01 01:00:00</td>\n",
       "      <td>19.84</td>\n",
       "      <td>0.32</td>\n",
       "      <td>39.68</td>\n",
       "      <td>0.64</td>\n",
       "      <td>39.68</td>\n",
       "      <td>39.685</td>\n",
       "      <td>0.9999</td>\n",
       "      <td>12.1024</td>\n",
       "      <td>1</td>\n",
       "      <td>2016-03-01 01:00:00</td>\n",
       "      <td>2016-03-01 01:15:00</td>\n",
       "      <td>19.84</td>\n",
       "      <td>0.0</td>\n",
       "      <td>NaN</td>\n",
       "      <td>NaN</td>\n",
       "      <td>NaN</td>\n",
       "      <td>0.0</td>\n",
       "      <td>0.0</td>\n",
       "    </tr>\n",
       "    <tr>\n",
       "      <th>3</th>\n",
       "      <td>2002107042</td>\n",
       "      <td>2016-03-01 01:30:00</td>\n",
       "      <td>19.84</td>\n",
       "      <td>0.32</td>\n",
       "      <td>39.68</td>\n",
       "      <td>0.64</td>\n",
       "      <td>39.68</td>\n",
       "      <td>39.685</td>\n",
       "      <td>0.9999</td>\n",
       "      <td>12.1024</td>\n",
       "      <td>1</td>\n",
       "      <td>2016-03-01 01:30:00</td>\n",
       "      <td>2016-03-01 01:45:00</td>\n",
       "      <td>19.84</td>\n",
       "      <td>0.0</td>\n",
       "      <td>NaN</td>\n",
       "      <td>NaN</td>\n",
       "      <td>NaN</td>\n",
       "      <td>0.0</td>\n",
       "      <td>0.0</td>\n",
       "    </tr>\n",
       "    <tr>\n",
       "      <th>4</th>\n",
       "      <td>2002107042</td>\n",
       "      <td>2016-03-01 02:00:00</td>\n",
       "      <td>18.88</td>\n",
       "      <td>0.48</td>\n",
       "      <td>37.76</td>\n",
       "      <td>0.96</td>\n",
       "      <td>37.76</td>\n",
       "      <td>37.772</td>\n",
       "      <td>0.9997</td>\n",
       "      <td>11.5168</td>\n",
       "      <td>1</td>\n",
       "      <td>2016-03-01 02:00:00</td>\n",
       "      <td>2016-03-01 02:15:00</td>\n",
       "      <td>18.88</td>\n",
       "      <td>0.0</td>\n",
       "      <td>NaN</td>\n",
       "      <td>NaN</td>\n",
       "      <td>NaN</td>\n",
       "      <td>0.0</td>\n",
       "      <td>0.0</td>\n",
       "    </tr>\n",
       "  </tbody>\n",
       "</table>\n",
       "</div>"
      ],
      "text/plain": [
       "          NMI               Period  kWh Value  kVARh Value     kW  kVAR  \\\n",
       "0  2002107042  2016-03-01 00:00:00      20.32         0.48  40.64  0.96   \n",
       "1  2002107042  2016-03-01 00:30:00      18.08         0.32  36.16  0.64   \n",
       "2  2002107042  2016-03-01 01:00:00      19.84         0.32  39.68  0.64   \n",
       "3  2002107042  2016-03-01 01:30:00      19.84         0.32  39.68  0.64   \n",
       "4  2002107042  2016-03-01 02:00:00      18.88         0.48  37.76  0.96   \n",
       "\n",
       "   Max kW  Demand kVA      PF      CO2  No Of Meters           Start Time  \\\n",
       "0   40.64      40.651  0.9997  12.3952             1  2016-03-01 00:00:00   \n",
       "1   36.16      36.166  0.9998  11.0288             1  2016-03-01 00:30:00   \n",
       "2   39.68      39.685  0.9999  12.1024             1  2016-03-01 01:00:00   \n",
       "3   39.68      39.685  0.9999  12.1024             1  2016-03-01 01:30:00   \n",
       "4   37.76      37.772  0.9997  11.5168             1  2016-03-01 02:00:00   \n",
       "\n",
       "              End Time  kWh Actual  kWh Estimate  Minimum Temperature  \\\n",
       "0  2016-03-01 00:15:00       20.32           0.0                  NaN   \n",
       "1  2016-03-01 00:45:00       18.08           0.0                  NaN   \n",
       "2  2016-03-01 01:15:00       19.84           0.0                  NaN   \n",
       "3  2016-03-01 01:45:00       19.84           0.0                  NaN   \n",
       "4  2016-03-01 02:15:00       18.88           0.0                  NaN   \n",
       "\n",
       "   Maximum Temperature  Site ID  TOU Demand kW  TOU Demand kVA  \n",
       "0                  NaN      NaN            0.0             0.0  \n",
       "1                  NaN      NaN            0.0             0.0  \n",
       "2                  NaN      NaN            0.0             0.0  \n",
       "3                  NaN      NaN            0.0             0.0  \n",
       "4                  NaN      NaN            0.0             0.0  "
      ]
     },
     "execution_count": 8,
     "metadata": {},
     "output_type": "execute_result"
    }
   ],
   "source": [
    "metering_data.head()"
   ]
  },
  {
   "cell_type": "code",
   "execution_count": 35,
   "metadata": {
    "collapsed": false
   },
   "outputs": [
    {
     "data": {
      "text/plain": [
       "<matplotlib.axes._subplots.AxesSubplot at 0x117fef28>"
      ]
     },
     "execution_count": 35,
     "metadata": {},
     "output_type": "execute_result"
    },
    {
     "data": {
      "image/png": "[encoded data removed]",
      "text/plain": [
       "<matplotlib.figure.Figure at 0x118239b0>"
      ]
     },
     "metadata": {},
     "output_type": "display_data"
    }
   ],
   "source": [
    "max_kVA = metering_data.groupby(['NMI'])['Demand kVA'].transform(max) == metering_data['Demand kVA']\n",
    "metering_data[max_kVA]['Demand kVA'].plot.bar()"
   ]
  },
  {
   "cell_type": "code",
   "execution_count": 49,
   "metadata": {
    "collapsed": false
   },
   "outputs": [
    {
     "name": "stdout",
     "output_type": "stream",
     "text": [
      "376511.04\n"
     ]
    }
   ],
   "source": [
    "def find_sum(x):\n",
    "    return x.sum()\n",
    "\n",
    "total_consumption = metering_data.groupby(['NMI'])['kWh Value'].apply(find_sum)\n",
    "print total_consumption.loc['NCCC004260']"
   ]
  },
  {
   "cell_type": "code",
   "execution_count": 56,
   "metadata": {
    "collapsed": false
   },
   "outputs": [
    {
     "data": {
      "text/plain": [
       "NMI\n",
       "2002107042      54518.080\n",
       "3117055261     331773.000\n",
       "3120083967     564143.680\n",
       "4102031007      17452.088\n",
       "4103693793      44134.560\n",
       "4103772413     779134.800\n",
       "4103797363     130685.984\n",
       "6102002823    1316422.440\n",
       "6102322076     161457.420\n",
       "6103009405    1248606.960\n",
       "6103032221     274744.800\n",
       "NCCC004260     753022.080\n",
       "dtype: float64"
      ]
     },
     "execution_count": 56,
     "metadata": {},
     "output_type": "execute_result"
    }
   ],
   "source": [
    "def find_all_sum(x):\n",
    "    return x['kW'].sum()\n",
    "\n",
    "total_items = metering_data.groupby(['NMI']).apply(find_all_sum)\n",
    "total_items"
   ]
  },
  {
   "cell_type": "code",
   "execution_count": 61,
   "metadata": {
    "collapsed": false
   },
   "outputs": [],
   "source": [
    "# export as csv file\n",
    "if False:\n",
    "    total_items.to_csv('test.csv')"
   ]
  },
  {
   "cell_type": "code",
   "execution_count": null,
   "metadata": {
    "collapsed": true
   },
   "outputs": [],
   "source": []
  }
 ],
 "metadata": {
  "kernelspec": {
   "display_name": "Python 2",
   "language": "python",
   "name": "python2"
  },
  "language_info": {
   "codemirror_mode": {
    "name": "ipython",
    "version": 2
   },
   "file_extension": ".py",
   "mimetype": "text/x-python",
   "name": "python",
   "nbconvert_exporter": "python",
   "pygments_lexer": "ipython2",
   "version": "2.7.11"
  }
 },
 "nbformat": 4,
 "nbformat_minor": 0
}
